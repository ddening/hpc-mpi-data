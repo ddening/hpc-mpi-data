{
 "cells": [
  {
   "cell_type": "code",
   "execution_count": 2,
   "metadata": {},
   "outputs": [],
   "source": [
    "# =========================\n",
    "#\n",
    "# Titel : HPC Game Of Life\n",
    "# Author: Dimitri Dening\n",
    "# Date  : 29.06.2021\n",
    "#\n",
    "# =========================\n",
    "\n",
    "from IPython.display import display\n",
    "import matplotlib.pyplot as plt\n",
    "import contextlib\n",
    "import pandas as pd\n",
    "import numpy as np\n",
    "import json\n",
    "import csv\n",
    "import os"
   ]
  },
  {
   "cell_type": "code",
   "execution_count": 4,
   "metadata": {},
   "outputs": [],
   "source": [
    "data_dir = '../rawdata/test_mem/'\n",
    "data_sets = [folder.path for folder in os.scandir(data_dir) if folder.is_dir()]\n",
    "\n",
    "for index, data_set in enumerate(data_sets):\n",
    "    \n",
    "    sub_data_sets = [folder.path for folder in os.scandir(data_set) if folder.is_dir()]\n",
    "   \n",
    "    for sub_data_set in sub_data_sets:\n",
    "        # Calc Data\n",
    "        files_calc = [filename for filename in os.listdir(sub_data_set) if filename.startswith('dstrb_mem')]\n",
    "        \n",
    "        if not files_calc:\n",
    "            pass\n",
    "        else: \n",
    "            for filename in files_calc:\n",
    "                file_dir = sub_data_set + \"\\\\\" + filename\n",
    "                # reading the data from the file\n",
    "                with open(file_dir, 'r') as f:\n",
    "                    current_data = f.read()\n",
    "                    with open(file_dir, 'w') as over_write:\n",
    "                        current_data = current_data.replace(\" \", \",\")\n",
    "                        over_write.write(current_data)\n",
    "          \n",
    "        # Comm Data\n",
    "        files_comm = [filename for filename in os.listdir(sub_data_set) if filename.startswith('dstrb_comm')]\n",
    "        \n",
    "        if not files_comm:\n",
    "            pass\n",
    "        else:\n",
    "            for filename in files_comm:\n",
    "                file_dir = sub_data_set + \"\\\\\" + filename\n",
    "                # reading the data from the file\n",
    "                with open(file_dir, 'r') as f:\n",
    "                    current_data = f.read()\n",
    "                    with open(file_dir, 'w') as over_write:\n",
    "                        current_data = current_data.replace(\" \", \",\")\n",
    "                        over_write.write(current_data)       "
   ]
  },
  {
   "cell_type": "code",
   "execution_count": 5,
   "metadata": {},
   "outputs": [
    {
     "name": "stdout",
     "output_type": "stream",
     "text": [
      "['dstrb_mem_rank_0_2021_07_22_17_45_26.txt', 'dstrb_mem_rank_0_2021_07_22_17_45_28.txt', 'dstrb_mem_rank_1_2021_07_22_17_45_26.txt', 'dstrb_mem_rank_1_2021_07_22_17_45_28.txt', 'dstrb_mem_rank_2_2021_07_22_17_45_28.txt']\n"
     ]
    },
    {
     "ename": "NameError",
     "evalue": "name 'file_accumulate_dstrb_mean' is not defined",
     "output_type": "error",
     "traceback": [
      "\u001b[1;31m---------------------------------------------------------------------------\u001b[0m",
      "\u001b[1;31mNameError\u001b[0m                                 Traceback (most recent call last)",
      "\u001b[1;32m<ipython-input-5-07d7ed48b1d5>\u001b[0m in \u001b[0;36m<module>\u001b[1;34m\u001b[0m\n\u001b[0;32m     13\u001b[0m         \u001b[0mfile_accumulate\u001b[0m \u001b[1;33m=\u001b[0m \u001b[0msub_data_set\u001b[0m \u001b[1;33m+\u001b[0m \u001b[1;34m'/accumulated_dstrb.csv'\u001b[0m\u001b[1;33m\u001b[0m\u001b[1;33m\u001b[0m\u001b[0m\n\u001b[0;32m     14\u001b[0m \u001b[1;33m\u001b[0m\u001b[0m\n\u001b[1;32m---> 15\u001b[1;33m         \u001b[0mdf\u001b[0m \u001b[1;33m=\u001b[0m \u001b[0mpd\u001b[0m\u001b[1;33m.\u001b[0m\u001b[0mread_csv\u001b[0m\u001b[1;33m(\u001b[0m\u001b[0mfile_accumulate_dstrb_mean\u001b[0m\u001b[1;33m,\u001b[0m \u001b[0mnames\u001b[0m\u001b[1;33m=\u001b[0m\u001b[1;33m(\u001b[0m\u001b[1;34m'method'\u001b[0m\u001b[1;33m,\u001b[0m \u001b[1;34m'threads'\u001b[0m\u001b[1;33m,\u001b[0m \u001b[1;34m'frames'\u001b[0m\u001b[1;33m,\u001b[0m \u001b[1;34m'size'\u001b[0m\u001b[1;33m,\u001b[0m \u001b[1;34m'time'\u001b[0m\u001b[1;33m)\u001b[0m\u001b[1;33m)\u001b[0m\u001b[1;33m\u001b[0m\u001b[1;33m\u001b[0m\u001b[0m\n\u001b[0m\u001b[0;32m     16\u001b[0m         \u001b[1;31m#df = pd.DataFrame(df, columns=['threads', 'time'])\u001b[0m\u001b[1;33m\u001b[0m\u001b[1;33m\u001b[0m\u001b[1;33m\u001b[0m\u001b[0m\n\u001b[0;32m     17\u001b[0m         \u001b[0mdisplay\u001b[0m\u001b[1;33m(\u001b[0m\u001b[0mdf\u001b[0m\u001b[1;33m)\u001b[0m\u001b[1;33m\u001b[0m\u001b[1;33m\u001b[0m\u001b[0m\n",
      "\u001b[1;31mNameError\u001b[0m: name 'file_accumulate_dstrb_mean' is not defined"
     ]
    }
   ],
   "source": [
    "data_dir = '../rawdata/test_mem/'\n",
    "data_sets = [folder.path for folder in os.scandir(data_dir) if folder.is_dir()]\n",
    "\n",
    "for index, data_set in enumerate(data_sets):\n",
    "    time_dstrb = []\n",
    "    sub_data_sets = [folder.path for folder in os.scandir(data_set) if folder.is_dir()]\n",
    "    \n",
    "    for sub_data_set in sub_data_sets:  \n",
    "        \n",
    "        files = [filename for filename in os.listdir(sub_data_set) if filename.startswith('dstrb_mem')]\n",
    "        \n",
    "        for fi in files:\n",
    "        \n",
    "        file_accumulate = sub_data_set + '/accumulated_dstrb.csv'\n",
    "        \n",
    "        df = pd.read_csv(file_accumulate_dstrb_mean, names=('method', 'threads', 'frames', 'size', 'time'))\n",
    "        #df = pd.DataFrame(df, columns=['threads', 'time']) \n",
    "        display(df)   \n",
    "        \n",
    "        method = df['method'][0]\n",
    "        df.plot(x='threads', y='time', style=\"ro--\", label=method) # kind='scatter'\n",
    "        plt.legend(loc=\"best\")\n",
    "        plt.title(\"Distributed Memory Runtime\")\n",
    "        plt.xlabel(\"Threads\")\n",
    "        plt.ylabel(\"Time in s\")\n",
    "        # plt.savefig('dstr-dataset-%s.png' % str(index), bbox_inches='tight')\n",
    "        plt.grid()\n",
    "        plt.show() "
   ]
  }
 ],
 "metadata": {
  "kernelspec": {
   "display_name": "Python 3",
   "language": "python",
   "name": "python3"
  },
  "language_info": {
   "codemirror_mode": {
    "name": "ipython",
    "version": 3
   },
   "file_extension": ".py",
   "mimetype": "text/x-python",
   "name": "python",
   "nbconvert_exporter": "python",
   "pygments_lexer": "ipython3",
   "version": "3.8.5"
  }
 },
 "nbformat": 4,
 "nbformat_minor": 4
}
